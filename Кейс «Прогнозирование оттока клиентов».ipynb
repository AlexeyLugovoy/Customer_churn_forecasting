{
 "cells": [
  {
   "cell_type": "markdown",
   "metadata": {},
   "source": [
    "# Кейс «Прогнозирование оттока клиентов»"
   ]
  },
  {
   "cell_type": "markdown",
   "metadata": {},
   "source": [
    "#### Суть бизнес задачи:"
   ]
  },
  {
   "cell_type": "markdown",
   "metadata": {},
   "source": [
    "Каждый год компания пролонгирует полисы Каско клиентов - физических лиц. Для оптимизации работы со списками на пролонгацию необходимо прогнозировать с какой вероятностью каждый из клиентов пролонгируется и какие факторы на это влияют. В зависимости от этого расставляются приоритеты операторам колл-центра, которые обрабатывают список (осуществляют обзвон клиентов), а также принимаются решения по дополнительной мотивации клиентов к пролонгации."
   ]
  },
  {
   "cell_type": "markdown",
   "metadata": {},
   "source": [
    "### Библиотеки"
   ]
  },
  {
   "cell_type": "code",
   "execution_count": 1,
   "metadata": {
    "collapsed": true
   },
   "outputs": [],
   "source": [
    "import pandas as pd\n",
    "import numpy as np\n",
    "import seaborn as sns\n",
    "import matplotlib.pyplot as plt\n",
    "\n",
    "\n",
    "%matplotlib inline"
   ]
  },
  {
   "cell_type": "markdown",
   "metadata": {},
   "source": [
    "## Загрузка данных "
   ]
  },
  {
   "cell_type": "code",
   "execution_count": 44,
   "metadata": {
    "scrolled": true
   },
   "outputs": [
    {
     "data": {
      "text/html": [
       "<div>\n",
       "<style>\n",
       "    .dataframe thead tr:only-child th {\n",
       "        text-align: right;\n",
       "    }\n",
       "\n",
       "    .dataframe thead th {\n",
       "        text-align: left;\n",
       "    }\n",
       "\n",
       "    .dataframe tbody tr th {\n",
       "        vertical-align: top;\n",
       "    }\n",
       "</style>\n",
       "<table border=\"1\" class=\"dataframe\">\n",
       "  <thead>\n",
       "    <tr style=\"text-align: right;\">\n",
       "      <th></th>\n",
       "      <th>DATA_TYPE</th>\n",
       "      <th>POLICY_BEGIN_MONTH</th>\n",
       "      <th>POLICY_END_MONTH</th>\n",
       "      <th>POLICY_IS_RENEWED</th>\n",
       "      <th>POLICY_SALES_CHANNEL</th>\n",
       "      <th>POLICY_SALES_CHANNEL_GROUP</th>\n",
       "      <th>POLICY_BRANCH</th>\n",
       "      <th>POLICY_MIN_AGE</th>\n",
       "      <th>POLICY_MIN_DRIVING_EXPERIENCE</th>\n",
       "      <th>VEHICLE_MAKE</th>\n",
       "      <th>...</th>\n",
       "      <th>POLICY_PRV_CLM_GLT_N</th>\n",
       "      <th>CLIENT_HAS_DAGO</th>\n",
       "      <th>CLIENT_HAS_OSAGO</th>\n",
       "      <th>POLICY_COURT_SIGN</th>\n",
       "      <th>CLAIM_AVG_ACC_ST_PRD</th>\n",
       "      <th>POLICY_HAS_COMPLAINTS</th>\n",
       "      <th>POLICY_YEARS_RENEWED_N</th>\n",
       "      <th>POLICY_DEDUCT_VALUE</th>\n",
       "      <th>CLIENT_REGISTRATION_REGION</th>\n",
       "      <th>POLICY_PRICE_CHANGE</th>\n",
       "    </tr>\n",
       "    <tr>\n",
       "      <th>POLICY_ID</th>\n",
       "      <th></th>\n",
       "      <th></th>\n",
       "      <th></th>\n",
       "      <th></th>\n",
       "      <th></th>\n",
       "      <th></th>\n",
       "      <th></th>\n",
       "      <th></th>\n",
       "      <th></th>\n",
       "      <th></th>\n",
       "      <th></th>\n",
       "      <th></th>\n",
       "      <th></th>\n",
       "      <th></th>\n",
       "      <th></th>\n",
       "      <th></th>\n",
       "      <th></th>\n",
       "      <th></th>\n",
       "      <th></th>\n",
       "      <th></th>\n",
       "      <th></th>\n",
       "    </tr>\n",
       "  </thead>\n",
       "  <tbody>\n",
       "    <tr>\n",
       "      <th>1</th>\n",
       "      <td>TRAIN</td>\n",
       "      <td>1</td>\n",
       "      <td>1</td>\n",
       "      <td>1</td>\n",
       "      <td>39</td>\n",
       "      <td>1</td>\n",
       "      <td>Москва</td>\n",
       "      <td>51</td>\n",
       "      <td>12</td>\n",
       "      <td>Land Rover</td>\n",
       "      <td>...</td>\n",
       "      <td>N</td>\n",
       "      <td>1</td>\n",
       "      <td>0</td>\n",
       "      <td>0</td>\n",
       "      <td>0.0</td>\n",
       "      <td>0</td>\n",
       "      <td>0</td>\n",
       "      <td>0.0</td>\n",
       "      <td>Тульская</td>\n",
       "      <td>-1.00</td>\n",
       "    </tr>\n",
       "    <tr>\n",
       "      <th>2</th>\n",
       "      <td>TRAIN</td>\n",
       "      <td>1</td>\n",
       "      <td>1</td>\n",
       "      <td>1</td>\n",
       "      <td>50</td>\n",
       "      <td>5</td>\n",
       "      <td>Москва</td>\n",
       "      <td>35</td>\n",
       "      <td>7</td>\n",
       "      <td>Opel</td>\n",
       "      <td>...</td>\n",
       "      <td>0</td>\n",
       "      <td>1</td>\n",
       "      <td>1</td>\n",
       "      <td>0</td>\n",
       "      <td>0.0</td>\n",
       "      <td>0</td>\n",
       "      <td>4</td>\n",
       "      <td>0.0</td>\n",
       "      <td>Москва</td>\n",
       "      <td>-0.05</td>\n",
       "    </tr>\n",
       "    <tr>\n",
       "      <th>3</th>\n",
       "      <td>TRAIN</td>\n",
       "      <td>1</td>\n",
       "      <td>1</td>\n",
       "      <td>1</td>\n",
       "      <td>52</td>\n",
       "      <td>6</td>\n",
       "      <td>Москва</td>\n",
       "      <td>41</td>\n",
       "      <td>6</td>\n",
       "      <td>Kia</td>\n",
       "      <td>...</td>\n",
       "      <td>1L</td>\n",
       "      <td>0</td>\n",
       "      <td>0</td>\n",
       "      <td>0</td>\n",
       "      <td>0.0</td>\n",
       "      <td>0</td>\n",
       "      <td>1</td>\n",
       "      <td>12518.0</td>\n",
       "      <td>Московская</td>\n",
       "      <td>-0.07</td>\n",
       "    </tr>\n",
       "    <tr>\n",
       "      <th>4</th>\n",
       "      <td>TRAIN</td>\n",
       "      <td>1</td>\n",
       "      <td>1</td>\n",
       "      <td>1</td>\n",
       "      <td>50</td>\n",
       "      <td>5</td>\n",
       "      <td>Москва</td>\n",
       "      <td>36</td>\n",
       "      <td>12</td>\n",
       "      <td>Citroen</td>\n",
       "      <td>...</td>\n",
       "      <td>0</td>\n",
       "      <td>1</td>\n",
       "      <td>1</td>\n",
       "      <td>0</td>\n",
       "      <td>0.0</td>\n",
       "      <td>0</td>\n",
       "      <td>6</td>\n",
       "      <td>15000.0</td>\n",
       "      <td>Москва</td>\n",
       "      <td>0.05</td>\n",
       "    </tr>\n",
       "    <tr>\n",
       "      <th>5</th>\n",
       "      <td>TRAIN</td>\n",
       "      <td>1</td>\n",
       "      <td>1</td>\n",
       "      <td>0</td>\n",
       "      <td>52</td>\n",
       "      <td>6</td>\n",
       "      <td>Санкт-Петербург</td>\n",
       "      <td>42</td>\n",
       "      <td>5</td>\n",
       "      <td>Renault</td>\n",
       "      <td>...</td>\n",
       "      <td>N</td>\n",
       "      <td>0</td>\n",
       "      <td>0</td>\n",
       "      <td>0</td>\n",
       "      <td>0.0</td>\n",
       "      <td>0</td>\n",
       "      <td>0</td>\n",
       "      <td>50000.0</td>\n",
       "      <td>Ленинградская</td>\n",
       "      <td>0.17</td>\n",
       "    </tr>\n",
       "  </tbody>\n",
       "</table>\n",
       "<p>5 rows × 29 columns</p>\n",
       "</div>"
      ],
      "text/plain": [
       "          DATA_TYPE  POLICY_BEGIN_MONTH  POLICY_END_MONTH  POLICY_IS_RENEWED  \\\n",
       "POLICY_ID                                                                      \n",
       "1             TRAIN                   1                 1                  1   \n",
       "2             TRAIN                   1                 1                  1   \n",
       "3             TRAIN                   1                 1                  1   \n",
       "4             TRAIN                   1                 1                  1   \n",
       "5             TRAIN                   1                 1                  0   \n",
       "\n",
       "           POLICY_SALES_CHANNEL  POLICY_SALES_CHANNEL_GROUP    POLICY_BRANCH  \\\n",
       "POLICY_ID                                                                      \n",
       "1                            39                           1           Москва   \n",
       "2                            50                           5           Москва   \n",
       "3                            52                           6           Москва   \n",
       "4                            50                           5           Москва   \n",
       "5                            52                           6  Санкт-Петербург   \n",
       "\n",
       "           POLICY_MIN_AGE  POLICY_MIN_DRIVING_EXPERIENCE VEHICLE_MAKE  \\\n",
       "POLICY_ID                                                               \n",
       "1                      51                             12   Land Rover   \n",
       "2                      35                              7         Opel   \n",
       "3                      41                              6          Kia   \n",
       "4                      36                             12      Citroen   \n",
       "5                      42                              5      Renault   \n",
       "\n",
       "                  ...         POLICY_PRV_CLM_GLT_N  CLIENT_HAS_DAGO  \\\n",
       "POLICY_ID         ...                                                 \n",
       "1                 ...                            N                1   \n",
       "2                 ...                            0                1   \n",
       "3                 ...                           1L                0   \n",
       "4                 ...                            0                1   \n",
       "5                 ...                            N                0   \n",
       "\n",
       "           CLIENT_HAS_OSAGO  POLICY_COURT_SIGN CLAIM_AVG_ACC_ST_PRD  \\\n",
       "POLICY_ID                                                             \n",
       "1                         0                  0                  0.0   \n",
       "2                         1                  0                  0.0   \n",
       "3                         0                  0                  0.0   \n",
       "4                         1                  0                  0.0   \n",
       "5                         0                  0                  0.0   \n",
       "\n",
       "          POLICY_HAS_COMPLAINTS POLICY_YEARS_RENEWED_N POLICY_DEDUCT_VALUE  \\\n",
       "POLICY_ID                                                                    \n",
       "1                             0                      0                 0.0   \n",
       "2                             0                      4                 0.0   \n",
       "3                             0                      1             12518.0   \n",
       "4                             0                      6             15000.0   \n",
       "5                             0                      0             50000.0   \n",
       "\n",
       "          CLIENT_REGISTRATION_REGION POLICY_PRICE_CHANGE  \n",
       "POLICY_ID                                                 \n",
       "1                           Тульская               -1.00  \n",
       "2                             Москва               -0.05  \n",
       "3                         Московская               -0.07  \n",
       "4                             Москва                0.05  \n",
       "5                      Ленинградская                0.17  \n",
       "\n",
       "[5 rows x 29 columns]"
      ]
     },
     "execution_count": 44,
     "metadata": {},
     "output_type": "execute_result"
    }
   ],
   "source": [
    "# Проблема с кодировкой 'utf-8' и 'windows-1251' \n",
    "# поэтому файл 'Данные для задачи - Ренессанс.txt' сохранил в кодировке 'ANSI'\n",
    "\n",
    "data = pd.read_csv('Данные для задачи - Ренессанс.txt', engine='python', sep=';', encoding='ansi', \n",
    "                   index_col=1, skipinitialspace=True)\n",
    "\n",
    "data.head()"
   ]
  },
  {
   "cell_type": "code",
   "execution_count": 5,
   "metadata": {},
   "outputs": [
    {
     "data": {
      "text/plain": [
       "(96605, 29)"
      ]
     },
     "execution_count": 5,
     "metadata": {},
     "output_type": "execute_result"
    }
   ],
   "source": [
    "data.shape"
   ]
  },
  {
   "cell_type": "markdown",
   "metadata": {},
   "source": [
    "## 1. Предобработка данных"
   ]
  },
  {
   "cell_type": "markdown",
   "metadata": {},
   "source": [
    "**DATA_TYPE** - Тип выборки\t('TRAIN' - обучающая выборка, 'TEST' - тестовая выборка)                                             \n",
    "**POLICY_ID** - ID полиса\t\n",
    "**POLICY_BEGIN_MONTH** - Месяц начала действия полиса\t\n",
    "**POLICY_END_MONTH** - Месяц окончания действия полиса\t\n",
    "**POLICY_IS_RENEWED** - Факт пролонгации полиса. Прогнозируемый параметр\tДля тестовой выборки параметр обнулён               \n",
    "**POLICY_SALES_CHANNEL** - Канал продаж полиса\t\n",
    "**POLICY_SALES_CHANNEL_GROUP** - Группа каналов продаж (группировка для колонки - канал продаж полиса) \t\n",
    "**POLICY_BRANCH** - Филиал продажи полиса\t\n",
    "**POLICY_MIN_AGE** - Минимальный возраст лиц допущенных к управлению по полису\t\n",
    "**POLICY_MIN_DRIVING_EXPERIENCE** - Минимальный стаж вождения лиц допущенных к управлению по полису\t\n",
    "**VEHICLE_MAKE** - Марка ТС\t\n",
    "**VEHICLE_MODEL** - Модель ТС\t\n",
    "**VEHICLE_ENGINE_POWER** - Мощность двигателя ТС (Мощность в лошадиных силах)                                                   \n",
    "**VEHICLE_IN_CREDIT** - ТС куплено в кредит\t\n",
    "**VEHICLE_SUM_INSURED** - Страховая сумма по полису (оценочная стоимость ТС - лимит возмещения)\t\n",
    "**POLICY_INTERMEDIARY**\t- Посредник по полису (Идентификатор посредника)                                                         \n",
    "**INSURER_GENDER** - Пол страхователя ('M' - мужчина, 'F' - женщина)                                                             \n",
    "**POLICY_CLM_N** - Кол-во убытков, всего по данному полису  \n",
    "(\"Цифра - количество убытков. \n",
    "Для клиентов с одним убытком:\n",
    "Окончение S - small, сумма убытка меньше 60% премии по полису\n",
    "Окончение L - large, сумма убытка больше 60% премии по полису)                                                                   \n",
    "**POLICY_CLM_GLT_N** - Кол-во убытков, где клиент виновен в ДТП по данному полису                                               \n",
    "**POLICY_PRV_CLM_N** - Кол-во убытков, всего по предыдущему (если есть) полису (клиент пролонгируется второй и более раз)\n",
    "**POLICY_PRV_CLM_GLT_N** - Кол-во убытков, где клиент виновен в ДТП по предыдущему полису (клиент пролонгируется второй и более раз)\t\n",
    "**CLIENT_HAS_DAGO** - У клиента также есть полис ДАГО (ДАГО - расширение для страхования ответственности)\t\n",
    "**CLIENT_HAS_OSAGO** - У клиента также есть полис ОСАГО\t\n",
    "**POLICY_COURT_SIGN** -\tПо полису был суд\t\n",
    "**CLAIM_AVG_ACC_ST_PRD** - Среднее время от страхового случая до заявления убытков по данному полису\t\n",
    "**POLICY_HAS_COMPLAINTS** - По полису были жалобы (в том числе при урегулировании убытков)\t\n",
    "**POLICY_YEARS_RENEWED_N** - Количество лет пролонгации полиса\t\n",
    "**POLICY_DEDUCT_VALUE** - Сумма франшизы по полису\t\n",
    "**CLIENT_REGISTRATION_REGION** - Регион регистрации страхователя (Регион, где клиент зарегистрирован по паспорту)               \n",
    "**POLICY_PRICE_CHANGE** - Как поменялась премия при пролонгации \n",
    "(\"\"цена предложенная при пролонгации\"\"-\"\"цена пролонгируемого полиса\"\")/\"\"цена пролонгируемого полиса\"\"\", Изменения в %, если > 0, то значит, что цена выросла)\n"
   ]
  },
  {
   "cell_type": "markdown",
   "metadata": {},
   "source": [
    "### Избыточность информации"
   ]
  },
  {
   "cell_type": "code",
   "execution_count": 3,
   "metadata": {},
   "outputs": [
    {
     "name": "stdout",
     "output_type": "stream",
     "text": [
      "<class 'pandas.core.frame.DataFrame'>\n",
      "Int64Index: 96605 entries, 1 to 96605\n",
      "Data columns (total 29 columns):\n",
      "DATA_TYPE                        96605 non-null object\n",
      "POLICY_BEGIN_MONTH               96605 non-null int64\n",
      "POLICY_END_MONTH                 96605 non-null int64\n",
      "POLICY_IS_RENEWED                96605 non-null int64\n",
      "POLICY_SALES_CHANNEL             96605 non-null int64\n",
      "POLICY_SALES_CHANNEL_GROUP       96605 non-null int64\n",
      "POLICY_BRANCH                    96605 non-null object\n",
      "POLICY_MIN_AGE                   96605 non-null int64\n",
      "POLICY_MIN_DRIVING_EXPERIENCE    96605 non-null int64\n",
      "VEHICLE_MAKE                     96605 non-null object\n",
      "VEHICLE_MODEL                    96605 non-null object\n",
      "VEHICLE_ENGINE_POWER             96605 non-null float64\n",
      "VEHICLE_IN_CREDIT                96605 non-null int64\n",
      "VEHICLE_SUM_INSURED              96605 non-null float64\n",
      "POLICY_INTERMEDIARY              96605 non-null object\n",
      "INSURER_GENDER                   96605 non-null object\n",
      "POLICY_CLM_N                     96605 non-null object\n",
      "POLICY_CLM_GLT_N                 96605 non-null object\n",
      "POLICY_PRV_CLM_N                 96605 non-null object\n",
      "POLICY_PRV_CLM_GLT_N             96605 non-null object\n",
      "CLIENT_HAS_DAGO                  96605 non-null int64\n",
      "CLIENT_HAS_OSAGO                 96605 non-null int64\n",
      "POLICY_COURT_SIGN                96605 non-null int64\n",
      "CLAIM_AVG_ACC_ST_PRD             96605 non-null float64\n",
      "POLICY_HAS_COMPLAINTS            96605 non-null int64\n",
      "POLICY_YEARS_RENEWED_N           96605 non-null object\n",
      "POLICY_DEDUCT_VALUE              96605 non-null float64\n",
      "CLIENT_REGISTRATION_REGION       96605 non-null object\n",
      "POLICY_PRICE_CHANGE              96605 non-null float64\n",
      "dtypes: float64(5), int64(12), object(12)\n",
      "memory usage: 22.1+ MB\n"
     ]
    }
   ],
   "source": [
    "data.info()"
   ]
  },
  {
   "cell_type": "code",
   "execution_count": 4,
   "metadata": {},
   "outputs": [
    {
     "data": {
      "text/html": [
       "<div>\n",
       "<style>\n",
       "    .dataframe thead tr:only-child th {\n",
       "        text-align: right;\n",
       "    }\n",
       "\n",
       "    .dataframe thead th {\n",
       "        text-align: left;\n",
       "    }\n",
       "\n",
       "    .dataframe tbody tr th {\n",
       "        vertical-align: top;\n",
       "    }\n",
       "</style>\n",
       "<table border=\"1\" class=\"dataframe\">\n",
       "  <thead>\n",
       "    <tr style=\"text-align: right;\">\n",
       "      <th></th>\n",
       "      <th>POLICY_BEGIN_MONTH</th>\n",
       "      <th>POLICY_END_MONTH</th>\n",
       "      <th>POLICY_IS_RENEWED</th>\n",
       "      <th>POLICY_SALES_CHANNEL</th>\n",
       "      <th>POLICY_SALES_CHANNEL_GROUP</th>\n",
       "      <th>POLICY_MIN_AGE</th>\n",
       "      <th>POLICY_MIN_DRIVING_EXPERIENCE</th>\n",
       "      <th>VEHICLE_ENGINE_POWER</th>\n",
       "      <th>VEHICLE_IN_CREDIT</th>\n",
       "      <th>VEHICLE_SUM_INSURED</th>\n",
       "      <th>CLIENT_HAS_DAGO</th>\n",
       "      <th>CLIENT_HAS_OSAGO</th>\n",
       "      <th>POLICY_COURT_SIGN</th>\n",
       "      <th>CLAIM_AVG_ACC_ST_PRD</th>\n",
       "      <th>POLICY_HAS_COMPLAINTS</th>\n",
       "      <th>POLICY_DEDUCT_VALUE</th>\n",
       "      <th>POLICY_PRICE_CHANGE</th>\n",
       "    </tr>\n",
       "  </thead>\n",
       "  <tbody>\n",
       "    <tr>\n",
       "      <th>count</th>\n",
       "      <td>96605.000000</td>\n",
       "      <td>96605.000000</td>\n",
       "      <td>96605.000000</td>\n",
       "      <td>96605.000000</td>\n",
       "      <td>96605.000000</td>\n",
       "      <td>96605.000000</td>\n",
       "      <td>96605.000000</td>\n",
       "      <td>96605.000000</td>\n",
       "      <td>96605.000000</td>\n",
       "      <td>9.660500e+04</td>\n",
       "      <td>96605.000000</td>\n",
       "      <td>96605.000000</td>\n",
       "      <td>96605.000000</td>\n",
       "      <td>96605.000000</td>\n",
       "      <td>96605.000000</td>\n",
       "      <td>96605.000000</td>\n",
       "      <td>96605.000000</td>\n",
       "    </tr>\n",
       "    <tr>\n",
       "      <th>mean</th>\n",
       "      <td>6.891393</td>\n",
       "      <td>6.870400</td>\n",
       "      <td>0.500761</td>\n",
       "      <td>47.345251</td>\n",
       "      <td>5.123265</td>\n",
       "      <td>42.580767</td>\n",
       "      <td>34.910357</td>\n",
       "      <td>154.195851</td>\n",
       "      <td>0.321950</td>\n",
       "      <td>9.806700e+05</td>\n",
       "      <td>0.277480</td>\n",
       "      <td>0.550303</td>\n",
       "      <td>0.001014</td>\n",
       "      <td>3.877110</td>\n",
       "      <td>0.007660</td>\n",
       "      <td>5974.134461</td>\n",
       "      <td>-0.033025</td>\n",
       "    </tr>\n",
       "    <tr>\n",
       "      <th>std</th>\n",
       "      <td>3.400597</td>\n",
       "      <td>3.403665</td>\n",
       "      <td>0.500002</td>\n",
       "      <td>14.034159</td>\n",
       "      <td>1.585213</td>\n",
       "      <td>10.694670</td>\n",
       "      <td>199.928966</td>\n",
       "      <td>54.117543</td>\n",
       "      <td>0.467226</td>\n",
       "      <td>6.900919e+05</td>\n",
       "      <td>0.447758</td>\n",
       "      <td>0.497466</td>\n",
       "      <td>0.031834</td>\n",
       "      <td>17.635091</td>\n",
       "      <td>0.087186</td>\n",
       "      <td>10418.697183</td>\n",
       "      <td>0.857995</td>\n",
       "    </tr>\n",
       "    <tr>\n",
       "      <th>min</th>\n",
       "      <td>1.000000</td>\n",
       "      <td>1.000000</td>\n",
       "      <td>0.000000</td>\n",
       "      <td>1.000000</td>\n",
       "      <td>1.000000</td>\n",
       "      <td>18.000000</td>\n",
       "      <td>0.000000</td>\n",
       "      <td>0.000000</td>\n",
       "      <td>0.000000</td>\n",
       "      <td>0.000000e+00</td>\n",
       "      <td>0.000000</td>\n",
       "      <td>0.000000</td>\n",
       "      <td>0.000000</td>\n",
       "      <td>0.000000</td>\n",
       "      <td>0.000000</td>\n",
       "      <td>0.000000</td>\n",
       "      <td>-1.000000</td>\n",
       "    </tr>\n",
       "    <tr>\n",
       "      <th>25%</th>\n",
       "      <td>4.000000</td>\n",
       "      <td>4.000000</td>\n",
       "      <td>0.000000</td>\n",
       "      <td>50.000000</td>\n",
       "      <td>5.000000</td>\n",
       "      <td>34.000000</td>\n",
       "      <td>8.000000</td>\n",
       "      <td>123.000000</td>\n",
       "      <td>0.000000</td>\n",
       "      <td>5.584960e+05</td>\n",
       "      <td>0.000000</td>\n",
       "      <td>0.000000</td>\n",
       "      <td>0.000000</td>\n",
       "      <td>0.000000</td>\n",
       "      <td>0.000000</td>\n",
       "      <td>0.000000</td>\n",
       "      <td>-0.170000</td>\n",
       "    </tr>\n",
       "    <tr>\n",
       "      <th>50%</th>\n",
       "      <td>7.000000</td>\n",
       "      <td>7.000000</td>\n",
       "      <td>1.000000</td>\n",
       "      <td>52.000000</td>\n",
       "      <td>6.000000</td>\n",
       "      <td>41.000000</td>\n",
       "      <td>14.000000</td>\n",
       "      <td>146.000000</td>\n",
       "      <td>0.000000</td>\n",
       "      <td>8.090000e+05</td>\n",
       "      <td>0.000000</td>\n",
       "      <td>1.000000</td>\n",
       "      <td>0.000000</td>\n",
       "      <td>0.000000</td>\n",
       "      <td>0.000000</td>\n",
       "      <td>0.000000</td>\n",
       "      <td>0.000000</td>\n",
       "    </tr>\n",
       "    <tr>\n",
       "      <th>75%</th>\n",
       "      <td>10.000000</td>\n",
       "      <td>10.000000</td>\n",
       "      <td>1.000000</td>\n",
       "      <td>53.000000</td>\n",
       "      <td>6.000000</td>\n",
       "      <td>50.000000</td>\n",
       "      <td>19.000000</td>\n",
       "      <td>171.000000</td>\n",
       "      <td>1.000000</td>\n",
       "      <td>1.163900e+06</td>\n",
       "      <td>1.000000</td>\n",
       "      <td>1.000000</td>\n",
       "      <td>0.000000</td>\n",
       "      <td>0.000000</td>\n",
       "      <td>0.000000</td>\n",
       "      <td>10000.000000</td>\n",
       "      <td>0.050000</td>\n",
       "    </tr>\n",
       "    <tr>\n",
       "      <th>max</th>\n",
       "      <td>12.000000</td>\n",
       "      <td>12.000000</td>\n",
       "      <td>1.000000</td>\n",
       "      <td>63.000000</td>\n",
       "      <td>8.000000</td>\n",
       "      <td>86.000000</td>\n",
       "      <td>2015.000000</td>\n",
       "      <td>2000.000000</td>\n",
       "      <td>1.000000</td>\n",
       "      <td>9.449000e+06</td>\n",
       "      <td>1.000000</td>\n",
       "      <td>1.000000</td>\n",
       "      <td>1.000000</td>\n",
       "      <td>737.000000</td>\n",
       "      <td>1.000000</td>\n",
       "      <td>120873.000000</td>\n",
       "      <td>60.020000</td>\n",
       "    </tr>\n",
       "  </tbody>\n",
       "</table>\n",
       "</div>"
      ],
      "text/plain": [
       "       POLICY_BEGIN_MONTH  POLICY_END_MONTH  POLICY_IS_RENEWED  \\\n",
       "count        96605.000000      96605.000000       96605.000000   \n",
       "mean             6.891393          6.870400           0.500761   \n",
       "std              3.400597          3.403665           0.500002   \n",
       "min              1.000000          1.000000           0.000000   \n",
       "25%              4.000000          4.000000           0.000000   \n",
       "50%              7.000000          7.000000           1.000000   \n",
       "75%             10.000000         10.000000           1.000000   \n",
       "max             12.000000         12.000000           1.000000   \n",
       "\n",
       "       POLICY_SALES_CHANNEL  POLICY_SALES_CHANNEL_GROUP  POLICY_MIN_AGE  \\\n",
       "count          96605.000000                96605.000000    96605.000000   \n",
       "mean              47.345251                    5.123265       42.580767   \n",
       "std               14.034159                    1.585213       10.694670   \n",
       "min                1.000000                    1.000000       18.000000   \n",
       "25%               50.000000                    5.000000       34.000000   \n",
       "50%               52.000000                    6.000000       41.000000   \n",
       "75%               53.000000                    6.000000       50.000000   \n",
       "max               63.000000                    8.000000       86.000000   \n",
       "\n",
       "       POLICY_MIN_DRIVING_EXPERIENCE  VEHICLE_ENGINE_POWER  VEHICLE_IN_CREDIT  \\\n",
       "count                   96605.000000          96605.000000       96605.000000   \n",
       "mean                       34.910357            154.195851           0.321950   \n",
       "std                       199.928966             54.117543           0.467226   \n",
       "min                         0.000000              0.000000           0.000000   \n",
       "25%                         8.000000            123.000000           0.000000   \n",
       "50%                        14.000000            146.000000           0.000000   \n",
       "75%                        19.000000            171.000000           1.000000   \n",
       "max                      2015.000000           2000.000000           1.000000   \n",
       "\n",
       "       VEHICLE_SUM_INSURED  CLIENT_HAS_DAGO  CLIENT_HAS_OSAGO  \\\n",
       "count         9.660500e+04     96605.000000      96605.000000   \n",
       "mean          9.806700e+05         0.277480          0.550303   \n",
       "std           6.900919e+05         0.447758          0.497466   \n",
       "min           0.000000e+00         0.000000          0.000000   \n",
       "25%           5.584960e+05         0.000000          0.000000   \n",
       "50%           8.090000e+05         0.000000          1.000000   \n",
       "75%           1.163900e+06         1.000000          1.000000   \n",
       "max           9.449000e+06         1.000000          1.000000   \n",
       "\n",
       "       POLICY_COURT_SIGN  CLAIM_AVG_ACC_ST_PRD  POLICY_HAS_COMPLAINTS  \\\n",
       "count       96605.000000          96605.000000           96605.000000   \n",
       "mean            0.001014              3.877110               0.007660   \n",
       "std             0.031834             17.635091               0.087186   \n",
       "min             0.000000              0.000000               0.000000   \n",
       "25%             0.000000              0.000000               0.000000   \n",
       "50%             0.000000              0.000000               0.000000   \n",
       "75%             0.000000              0.000000               0.000000   \n",
       "max             1.000000            737.000000               1.000000   \n",
       "\n",
       "       POLICY_DEDUCT_VALUE  POLICY_PRICE_CHANGE  \n",
       "count         96605.000000         96605.000000  \n",
       "mean           5974.134461            -0.033025  \n",
       "std           10418.697183             0.857995  \n",
       "min               0.000000            -1.000000  \n",
       "25%               0.000000            -0.170000  \n",
       "50%               0.000000             0.000000  \n",
       "75%           10000.000000             0.050000  \n",
       "max          120873.000000            60.020000  "
      ]
     },
     "execution_count": 4,
     "metadata": {},
     "output_type": "execute_result"
    }
   ],
   "source": [
    "data.describe()"
   ]
  },
  {
   "cell_type": "markdown",
   "metadata": {},
   "source": [
    "Признаков относительно не так много, поэтому к методам понижений размерности прибегать не будем. Попробуем разобраться частично с каждым признаком.\n",
    "Пропущенных значений нет, поэтому сразу построим матрицу корреляций, для того, чтобы понимать, какие признаки линейно зависимы между собой c первого же взгляда. Будем считать, что один из пары таких признаков - избыточная информация, которая не играет ключевую роль в наборе данных."
   ]
  },
  {
   "cell_type": "code",
   "execution_count": 6,
   "metadata": {},
   "outputs": [
    {
     "data": {
      "text/plain": [
       "<matplotlib.axes._subplots.AxesSubplot at 0x2086ba22a20>"
      ]
     },
     "execution_count": 6,
     "metadata": {},
     "output_type": "execute_result"
    },
    {
     "data": {
      "image/png": "[encoded data removed]",
      "text/plain": [
       "<Figure size 432x288 with 2 Axes>"
      ]
     },
     "metadata": {},
     "output_type": "display_data"
    }
   ],
   "source": [
    "sns.heatmap(data.corr())"
   ]
  },
  {
   "cell_type": "markdown",
   "metadata": {},
   "source": [
    "Видно, что такие признаки, как:                                                                                                 \n",
    "**POLICY_BEGIN_MONTH** и **POLICY_END_MONTH**,                                                                                       \n",
    "**POLICY_SALES_CHANNEL_GROUP** и **POLICY_SALES_CHANNEL**,                                                                           \n",
    "**VEHICLE_SUM_INSURED** и **VEHICLE_ENGINE_POWER**                                                                               \n",
    "показываю высокую линейную зависимость между собой."
   ]
  },
  {
   "cell_type": "code",
   "execution_count": 27,
   "metadata": {},
   "outputs": [
    {
     "data": {
      "text/html": [
       "<div>\n",
       "<style>\n",
       "    .dataframe thead tr:only-child th {\n",
       "        text-align: right;\n",
       "    }\n",
       "\n",
       "    .dataframe thead th {\n",
       "        text-align: left;\n",
       "    }\n",
       "\n",
       "    .dataframe tbody tr th {\n",
       "        vertical-align: top;\n",
       "    }\n",
       "</style>\n",
       "<table border=\"1\" class=\"dataframe\">\n",
       "  <thead>\n",
       "    <tr style=\"text-align: right;\">\n",
       "      <th></th>\n",
       "      <th>POLICY_BEGIN_MONTH</th>\n",
       "      <th>POLICY_END_MONTH</th>\n",
       "      <th>POLICY_SALES_CHANNEL_GROUP</th>\n",
       "      <th>POLICY_SALES_CHANNEL</th>\n",
       "      <th>VEHICLE_SUM_INSURED</th>\n",
       "      <th>VEHICLE_ENGINE_POWER</th>\n",
       "    </tr>\n",
       "  </thead>\n",
       "  <tbody>\n",
       "    <tr>\n",
       "      <th>POLICY_BEGIN_MONTH</th>\n",
       "      <td>1.000000</td>\n",
       "      <td>0.997728</td>\n",
       "      <td>0.017250</td>\n",
       "      <td>0.005576</td>\n",
       "      <td>0.051253</td>\n",
       "      <td>0.019254</td>\n",
       "    </tr>\n",
       "    <tr>\n",
       "      <th>POLICY_END_MONTH</th>\n",
       "      <td>0.997728</td>\n",
       "      <td>1.000000</td>\n",
       "      <td>0.016962</td>\n",
       "      <td>0.005666</td>\n",
       "      <td>0.052062</td>\n",
       "      <td>0.019657</td>\n",
       "    </tr>\n",
       "    <tr>\n",
       "      <th>POLICY_SALES_CHANNEL_GROUP</th>\n",
       "      <td>0.017250</td>\n",
       "      <td>0.016962</td>\n",
       "      <td>1.000000</td>\n",
       "      <td>0.688423</td>\n",
       "      <td>0.044398</td>\n",
       "      <td>-0.021546</td>\n",
       "    </tr>\n",
       "    <tr>\n",
       "      <th>POLICY_SALES_CHANNEL</th>\n",
       "      <td>0.005576</td>\n",
       "      <td>0.005666</td>\n",
       "      <td>0.688423</td>\n",
       "      <td>1.000000</td>\n",
       "      <td>-0.029799</td>\n",
       "      <td>-0.081585</td>\n",
       "    </tr>\n",
       "    <tr>\n",
       "      <th>VEHICLE_SUM_INSURED</th>\n",
       "      <td>0.051253</td>\n",
       "      <td>0.052062</td>\n",
       "      <td>0.044398</td>\n",
       "      <td>-0.029799</td>\n",
       "      <td>1.000000</td>\n",
       "      <td>0.780497</td>\n",
       "    </tr>\n",
       "    <tr>\n",
       "      <th>VEHICLE_ENGINE_POWER</th>\n",
       "      <td>0.019254</td>\n",
       "      <td>0.019657</td>\n",
       "      <td>-0.021546</td>\n",
       "      <td>-0.081585</td>\n",
       "      <td>0.780497</td>\n",
       "      <td>1.000000</td>\n",
       "    </tr>\n",
       "  </tbody>\n",
       "</table>\n",
       "</div>"
      ],
      "text/plain": [
       "                            POLICY_BEGIN_MONTH  POLICY_END_MONTH  \\\n",
       "POLICY_BEGIN_MONTH                    1.000000          0.997728   \n",
       "POLICY_END_MONTH                      0.997728          1.000000   \n",
       "POLICY_SALES_CHANNEL_GROUP            0.017250          0.016962   \n",
       "POLICY_SALES_CHANNEL                  0.005576          0.005666   \n",
       "VEHICLE_SUM_INSURED                   0.051253          0.052062   \n",
       "VEHICLE_ENGINE_POWER                  0.019254          0.019657   \n",
       "\n",
       "                            POLICY_SALES_CHANNEL_GROUP  POLICY_SALES_CHANNEL  \\\n",
       "POLICY_BEGIN_MONTH                            0.017250              0.005576   \n",
       "POLICY_END_MONTH                              0.016962              0.005666   \n",
       "POLICY_SALES_CHANNEL_GROUP                    1.000000              0.688423   \n",
       "POLICY_SALES_CHANNEL                          0.688423              1.000000   \n",
       "VEHICLE_SUM_INSURED                           0.044398             -0.029799   \n",
       "VEHICLE_ENGINE_POWER                         -0.021546             -0.081585   \n",
       "\n",
       "                            VEHICLE_SUM_INSURED  VEHICLE_ENGINE_POWER  \n",
       "POLICY_BEGIN_MONTH                     0.051253              0.019254  \n",
       "POLICY_END_MONTH                       0.052062              0.019657  \n",
       "POLICY_SALES_CHANNEL_GROUP             0.044398             -0.021546  \n",
       "POLICY_SALES_CHANNEL                  -0.029799             -0.081585  \n",
       "VEHICLE_SUM_INSURED                    1.000000              0.780497  \n",
       "VEHICLE_ENGINE_POWER                   0.780497              1.000000  "
      ]
     },
     "execution_count": 27,
     "metadata": {},
     "output_type": "execute_result"
    }
   ],
   "source": [
    "data[['POLICY_BEGIN_MONTH', 'POLICY_END_MONTH', 'POLICY_SALES_CHANNEL_GROUP', \n",
    "      'POLICY_SALES_CHANNEL', 'VEHICLE_SUM_INSURED', 'VEHICLE_ENGINE_POWER']].corr()"
   ]
  },
  {
   "cell_type": "markdown",
   "metadata": {},
   "source": [
    "Действительно, пары значений месяц начала и месяц окончания действия полиса в данном случае, не так важны. Оставим только месяц начала действия полиса (возможно, время года как-то влияет на другие параметры в данных).\n",
    "Следующая пара признаков, очевидно, взаимозаменяймы, ведь группа каналов продаж - это группировка для колонки - канал продаж полиса. Оставим значения только признака канала продаж полиса.\n",
    "Рассмотрим последнюю пару значений - мощность двигателя ТС и страховая сумма по полису. Понятно, что чем больше мощность двигателя, тем большуюю сумму придется отдать. Можно смело убрать, например, информацию о мощности двигателя ТС, так как столь же информативен будет признак суммы по полису."
   ]
  },
  {
   "cell_type": "code",
   "execution_count": 45,
   "metadata": {
    "collapsed": true
   },
   "outputs": [],
   "source": [
    "data.drop(['POLICY_END_MONTH', 'POLICY_SALES_CHANNEL_GROUP', 'VEHICLE_ENGINE_POWER'], axis=1, inplace=True)"
   ]
  },
  {
   "cell_type": "markdown",
   "metadata": {},
   "source": [
    "### Преобразование признаков"
   ]
  },
  {
   "cell_type": "markdown",
   "metadata": {},
   "source": [
    "Поделим признаки на типы (для общего понимания структуры данных):                                                                                                       \n",
    "1) Бинарные                                                                                                                     \n",
    "2) Категориальные                                                                                                               \n",
    "3) Числовые"
   ]
  },
  {
   "cell_type": "code",
   "execution_count": 46,
   "metadata": {
    "collapsed": true
   },
   "outputs": [],
   "source": [
    "categorical_data_columns = ['POLICY_BEGIN_MONTH',\n",
    "                            'POLICY_SALES_CHANNEL',\n",
    "                            'POLICY_BRANCH',\n",
    "                            'POLICY_MIN_AGE',\n",
    "                            'VEHICLE_MAKE',\n",
    "                            'VEHICLE_MODEL',\n",
    "                            'POLICY_CLM_N',\n",
    "                            'POLICY_CLM_GLT_N',\n",
    "                            'POLICY_PRV_CLM_N',\n",
    "                            'POLICY_PRV_CLM_GLT_N',\n",
    "                            'POLICY_YEARS_RENEWED_N',\n",
    "                            'CLIENT_REGISTRATION_REGION'] "
   ]
  },
  {
   "cell_type": "code",
   "execution_count": 47,
   "metadata": {
    "collapsed": true
   },
   "outputs": [],
   "source": [
    "binary_data_columns = ['VEHICLE_IN_CREDIT',\n",
    "                       'INSURER_GENDER',\n",
    "                       'CLIENT_HAS_DAGO',\n",
    "                       'CLIENT_HAS_OSAGO',\n",
    "                       'POLICY_COURT_SIGN',\n",
    "                       'POLICY_HAS_COMPLAINTS']"
   ]
  },
  {
   "cell_type": "code",
   "execution_count": 48,
   "metadata": {
    "collapsed": true
   },
   "outputs": [],
   "source": [
    "numeric_data_columns = ['POLICY_MIN_DRIVING_EXPERIENCE',\n",
    "                        'VEHICLE_SUM_INSURED',\n",
    "                        'POLICY_INTERMEDIARY',\n",
    "                        'CLAIM_AVG_ACC_ST_PRD',\n",
    "                        'POLICY_DEDUCT_VALUE',\n",
    "                        'POLICY_PRICE_CHANGE']"
   ]
  },
  {
   "cell_type": "markdown",
   "metadata": {},
   "source": [
    "Преобразуем все данные в цифровые значения для корректности работы модели."
   ]
  },
  {
   "cell_type": "code",
   "execution_count": 49,
   "metadata": {
    "scrolled": true
   },
   "outputs": [
    {
     "data": {
      "text/plain": [
       "['DATA_TYPE',\n",
       " 'POLICY_BRANCH',\n",
       " 'VEHICLE_MAKE',\n",
       " 'VEHICLE_MODEL',\n",
       " 'POLICY_INTERMEDIARY',\n",
       " 'INSURER_GENDER',\n",
       " 'POLICY_CLM_N',\n",
       " 'POLICY_CLM_GLT_N',\n",
       " 'POLICY_PRV_CLM_N',\n",
       " 'POLICY_PRV_CLM_GLT_N',\n",
       " 'POLICY_YEARS_RENEWED_N',\n",
       " 'CLIENT_REGISTRATION_REGION']"
      ]
     },
     "execution_count": 49,
     "metadata": {},
     "output_type": "execute_result"
    }
   ],
   "source": [
    "# Столбцы с типом \"object\"\n",
    "columns_object_types = [i for i,k in zip(data.dtypes.index, data.dtypes) if k == object]\n",
    "columns_object_types"
   ]
  },
  {
   "cell_type": "code",
   "execution_count": 50,
   "metadata": {
    "collapsed": true
   },
   "outputs": [],
   "source": [
    "# Бинарные\n",
    "data['POLICY_BRANCH'] = data['POLICY_BRANCH'].map({'Москва': 1, 'Санкт-Петербург': 0})\n",
    "data['INSURER_GENDER'] = data['INSURER_GENDER'].map({'M': 1, 'F': 0})\n",
    "\n",
    "# Числовые\n",
    "data['POLICY_INTERMEDIARY'].replace('N', 0, inplace=True)\n",
    "data['POLICY_INTERMEDIARY'] = pd.to_numeric(data['POLICY_INTERMEDIARY'])\n",
    "\n",
    "# Категориальные\n",
    "# 1S -> 0.1, 1L -> 0.9, 4+ -> 4, n/d -> -1\n",
    "data['POLICY_CLM_N'].replace(['1S', '1L', '4+', 'n/d'], [0.1, 0.9, 4, -1], inplace=True)\n",
    "data['POLICY_CLM_N'] = pd.to_numeric(data['POLICY_CLM_N'])\n",
    "\n",
    "data['POLICY_CLM_GLT_N'].replace(['1S', '1L', '4+', 'n/d'], [0.1, 0.9, 4, -1], inplace=True)\n",
    "data['POLICY_CLM_GLT_N'] = pd.to_numeric(data['POLICY_CLM_N'])\n",
    "\n",
    "# N -> -1\n",
    "data['POLICY_PRV_CLM_N'].replace(['1S', '1L', '4+', 'N'], [0.1, 0.9, 4, -1], inplace=True)\n",
    "data['POLICY_PRV_CLM_N'] = pd.to_numeric(data['POLICY_CLM_N'])\n",
    "\n",
    "data['POLICY_PRV_CLM_GLT_N'].replace(['1S', '1L', '4+', 'N'], [0.1, 0.9, 4, -1], inplace=True)\n",
    "data['POLICY_PRV_CLM_GLT_N'] = pd.to_numeric(data['POLICY_CLM_N'])\n",
    "\n",
    "data['POLICY_YEARS_RENEWED_N'].replace(['N'], [-1], inplace=True)\n",
    "data['POLICY_YEARS_RENEWED_N'] = pd.to_numeric(data['POLICY_CLM_N'])"
   ]
  },
  {
   "cell_type": "code",
   "execution_count": 51,
   "metadata": {},
   "outputs": [
    {
     "data": {
      "text/html": [
       "<div>\n",
       "<style>\n",
       "    .dataframe thead tr:only-child th {\n",
       "        text-align: right;\n",
       "    }\n",
       "\n",
       "    .dataframe thead th {\n",
       "        text-align: left;\n",
       "    }\n",
       "\n",
       "    .dataframe tbody tr th {\n",
       "        vertical-align: top;\n",
       "    }\n",
       "</style>\n",
       "<table border=\"1\" class=\"dataframe\">\n",
       "  <thead>\n",
       "    <tr style=\"text-align: right;\">\n",
       "      <th></th>\n",
       "      <th>DATA_TYPE</th>\n",
       "      <th>VEHICLE_MAKE</th>\n",
       "      <th>VEHICLE_MODEL</th>\n",
       "      <th>CLIENT_REGISTRATION_REGION</th>\n",
       "    </tr>\n",
       "    <tr>\n",
       "      <th>POLICY_ID</th>\n",
       "      <th></th>\n",
       "      <th></th>\n",
       "      <th></th>\n",
       "      <th></th>\n",
       "    </tr>\n",
       "  </thead>\n",
       "  <tbody>\n",
       "    <tr>\n",
       "      <th>1</th>\n",
       "      <td>TRAIN</td>\n",
       "      <td>Land Rover</td>\n",
       "      <td>Discovery</td>\n",
       "      <td>Тульская</td>\n",
       "    </tr>\n",
       "    <tr>\n",
       "      <th>2</th>\n",
       "      <td>TRAIN</td>\n",
       "      <td>Opel</td>\n",
       "      <td>Zafira</td>\n",
       "      <td>Москва</td>\n",
       "    </tr>\n",
       "    <tr>\n",
       "      <th>3</th>\n",
       "      <td>TRAIN</td>\n",
       "      <td>Kia</td>\n",
       "      <td>Soul</td>\n",
       "      <td>Московская</td>\n",
       "    </tr>\n",
       "    <tr>\n",
       "      <th>4</th>\n",
       "      <td>TRAIN</td>\n",
       "      <td>Citroen</td>\n",
       "      <td>C-Crosser</td>\n",
       "      <td>Москва</td>\n",
       "    </tr>\n",
       "    <tr>\n",
       "      <th>5</th>\n",
       "      <td>TRAIN</td>\n",
       "      <td>Renault</td>\n",
       "      <td>Logan</td>\n",
       "      <td>Ленинградская</td>\n",
       "    </tr>\n",
       "  </tbody>\n",
       "</table>\n",
       "</div>"
      ],
      "text/plain": [
       "          DATA_TYPE VEHICLE_MAKE VEHICLE_MODEL CLIENT_REGISTRATION_REGION\n",
       "POLICY_ID                                                                \n",
       "1             TRAIN   Land Rover     Discovery                   Тульская\n",
       "2             TRAIN         Opel        Zafira                     Москва\n",
       "3             TRAIN          Kia          Soul                 Московская\n",
       "4             TRAIN      Citroen     C-Crosser                     Москва\n",
       "5             TRAIN      Renault         Logan              Ленинградская"
      ]
     },
     "execution_count": 51,
     "metadata": {},
     "output_type": "execute_result"
    }
   ],
   "source": [
    "# Преобразовали почти все столбцы, посмотрим, какие признаки остались\n",
    "\n",
    "columns_object_types = [i for i,k in zip(data.dtypes.index, data.dtypes) if k == object]\n",
    "data[columns_object_types].head()"
   ]
  },
  {
   "cell_type": "markdown",
   "metadata": {},
   "source": [
    "Метку **DATA_TYPE** трогать не будем, позже ее уберем, после деления на обучающую и тестовую выборки. Остаются категориальные признаки **VEHICLE_MAKE**, **VEHICLE_MODEL**, **CLIENT_REGISTRATION_REGION**, выраженные словами. Эти признаки мы будем кодировать \"наивно\" (OneHotEncoding). Воспользуемся встроенным инструментом pandas - 'get_dummies'."
   ]
  },
  {
   "cell_type": "code",
   "execution_count": 52,
   "metadata": {},
   "outputs": [
    {
     "name": "stdout",
     "output_type": "stream",
     "text": [
      "VEHICLE_MAKE: (96605, 83)\n",
      "VEHICLE_MODEL: (96605, 549)\n",
      "CLIENT_REGISTRATION_REGION: (96605, 85)\n"
     ]
    }
   ],
   "source": [
    "# VEHICLE_MAKE\n",
    "VEHICLE_MAKE_dummies = pd.get_dummies(data['VEHICLE_MAKE'])\n",
    "print('VEHICLE_MAKE:', VEHICLE_MAKE_dummies.shape)\n",
    "\n",
    "# VEHICLE_MODEL\n",
    "VEHICLE_MODEL_dummies = pd.get_dummies(data['VEHICLE_MODEL'])\n",
    "print('VEHICLE_MODEL:', VEHICLE_MODEL_dummies.shape)\n",
    "\n",
    "# CLIENT_REGISTRATION_REGION\n",
    "CLIENT_REGISTRATION_REGION_dummies = pd.get_dummies(data['CLIENT_REGISTRATION_REGION'])\n",
    "print('CLIENT_REGISTRATION_REGION:', CLIENT_REGISTRATION_REGION_dummies.shape)"
   ]
  },
  {
   "cell_type": "markdown",
   "metadata": {},
   "source": [
    "Для **VEHICLE_MODEL** такой подход вынуждает добавлять к нашим данным еще 549 столбцов. При бинарных значениях с типом uint8 это не так критично, но лучше попробовать другой способ. Так как страховая сумма по полису зависит от самого ТС, то разумно будет предположить, что определенная модель ТС будет соответствовать определенной cтраховой суммой по полису. "
   ]
  },
  {
   "cell_type": "markdown",
   "metadata": {},
   "source": [
    "(Пропущенных значений нет, но имеется \"<Пусто>\" в **VEHICLE_MAKE**, в данном случае, будем считать это единичным выбросом, что не скажется существенным образом на работе модели при остальных данных, поэтому не будем отдельно обрабатывать это исключение)\n"
   ]
  },
  {
   "cell_type": "code",
   "execution_count": 53,
   "metadata": {
    "collapsed": true
   },
   "outputs": [],
   "source": [
    "replace_data = data.groupby(['VEHICLE_MODEL'])['VEHICLE_SUM_INSURED'].mean()\n",
    "VEHICLE_MODEL_replace_index = replace_data.index\n",
    "VEHICLE_MODEL_replace_values = replace_data.values\n",
    "\n",
    "data['VEHICLE_MODEL'].replace(VEHICLE_MODEL_replace_index, \n",
    "                              VEHICLE_MODEL_replace_values, inplace=True)"
   ]
  },
  {
   "cell_type": "markdown",
   "metadata": {},
   "source": [
    "Еще раз посмотрим на матрицу корреляций после преобразований на возможную избыточность информации в данной интерпретации признаков."
   ]
  },
  {
   "cell_type": "code",
   "execution_count": 54,
   "metadata": {},
   "outputs": [
    {
     "data": {
      "text/plain": [
       "<matplotlib.axes._subplots.AxesSubplot at 0x2086c700208>"
      ]
     },
     "execution_count": 54,
     "metadata": {},
     "output_type": "execute_result"
    },
    {
     "data": {
      "image/png": "[encoded data removed]",
      "text/plain": [
       "<Figure size 432x288 with 2 Axes>"
      ]
     },
     "metadata": {},
     "output_type": "display_data"
    }
   ],
   "source": [
    "# Без преобразований для признаков производителей ТС и региона регистрации клиента\n",
    "sns.heatmap(data.drop(['VEHICLE_MAKE', 'CLIENT_REGISTRATION_REGION'], axis=1).corr())"
   ]
  },
  {
   "cell_type": "markdown",
   "metadata": {},
   "source": [
    "В данной интерпретации видны прямые зависимости между несколькими признаками. Посмотрим, какие пары признаков показывают высокую корреляцию (не будем рассматривать отдельно пары признаков **VEHICLE_MODEL** и **VEHICLE_SUM_INSURED**, так как мы намерено использовали преобразования из последнего для кодирования значений моеделей автомобилей)."
   ]
  },
  {
   "cell_type": "code",
   "execution_count": 56,
   "metadata": {},
   "outputs": [
    {
     "name": "stdout",
     "output_type": "stream",
     "text": [
      "['POLICY_CLM_GLT_N' 'POLICY_CLM_N' 'POLICY_PRV_CLM_GLT_N'\n",
      " 'POLICY_PRV_CLM_N' 'POLICY_YEARS_RENEWED_N']\n"
     ]
    },
    {
     "data": {
      "image/png": "[encoded data removed]",
      "text/plain": [
       "<Figure size 1005.73x900 with 30 Axes>"
      ]
     },
     "metadata": {},
     "output_type": "display_data"
    }
   ],
   "source": [
    "pairs_corr = []\n",
    "data_corr = data.drop(['VEHICLE_MAKE', 'CLIENT_REGISTRATION_REGION'], axis=1).corr()\n",
    "for i,k in data_corr.items():\n",
    "    for j,v in k.items():\n",
    "        if v > 0.9 and i != j:\n",
    "            pairs_corr.append([i, j])\n",
    "    \n",
    "pairs_corr = np.unique(np.array(pairs_corr))\n",
    "sns.pairplot(data[pairs_corr], hue=pairs_corr[0])\n",
    "print(pairs_corr)"
   ]
  },
  {
   "attachments": {},
   "cell_type": "markdown",
   "metadata": {},
   "source": [
    "Очевидна линейная зависимость признаков **POLICY_CLM_GLT_N**, **POLICY_CLM_N**, **POLICY_PRV_CLM_GLT_N**, **POLICY_PRV_CLM_N**, **POLICY_YEARS_RENEWED_N** (в данной интерпретации кодирования этих признаков, как категориальных!). Соответственно, можно оставить только один из них без значимой потери информации)."
   ]
  },
  {
   "cell_type": "code",
   "execution_count": 58,
   "metadata": {
    "collapsed": true
   },
   "outputs": [],
   "source": [
    "# Оставим признак POLICY_CLM_N\n",
    "arr_to_remove = list(pairs_corr)\n",
    "arr_to_remove.remove('POLICY_CLM_N')\n",
    "data.drop(arr_to_remove, axis=1, inplace=True)"
   ]
  },
  {
   "cell_type": "code",
   "execution_count": 59,
   "metadata": {
    "collapsed": true
   },
   "outputs": [],
   "source": [
    "# Добавляем столбцы с onehot-кодировнием категориальных значений\n",
    "data = pd.concat([data, VEHICLE_MAKE_dummies, CLIENT_REGISTRATION_REGION_dummies], axis=1)\n",
    "data.drop(['VEHICLE_MAKE', 'CLIENT_REGISTRATION_REGION'], axis=1, inplace=True)"
   ]
  },
  {
   "cell_type": "code",
   "execution_count": 60,
   "metadata": {},
   "outputs": [
    {
     "data": {
      "text/plain": [
       "(96605, 188)"
      ]
     },
     "execution_count": 60,
     "metadata": {},
     "output_type": "execute_result"
    }
   ],
   "source": [
    "data.shape"
   ]
  },
  {
   "cell_type": "markdown",
   "metadata": {},
   "source": [
    "##  Работа с моделями"
   ]
  },
  {
   "cell_type": "code",
   "execution_count": 64,
   "metadata": {
    "collapsed": true
   },
   "outputs": [],
   "source": [
    "# Конечные значения для тренировки модели и прогноза\n",
    "\n",
    "X_data = data[data['DATA_TYPE'] == 'TEST '].drop(['DATA_TYPE', 'POLICY_IS_RENEWED'], axis=1)\n",
    "X_train_data = data[data['DATA_TYPE'] == 'TRAIN'].drop(['DATA_TYPE', 'POLICY_IS_RENEWED'], axis=1)\n",
    "y_train_data = data[data['DATA_TYPE'] == 'TRAIN']['POLICY_IS_RENEWED']"
   ]
  },
  {
   "cell_type": "code",
   "execution_count": 65,
   "metadata": {
    "collapsed": true
   },
   "outputs": [],
   "source": [
    "# Поделим значения на обучающую и тестовую выборки в известных данных.\n",
    "# Выберем то же соотношение 80% на обучение и 20% на тест\n",
    "\n",
    "data_train = data[data['DATA_TYPE'] == 'TRAIN'].drop('DATA_TYPE', axis=1)\n",
    "offset = int(data_train.shape[0] * 0.8)\n",
    "\n",
    "X_train = data_train[:offset].drop('POLICY_IS_RENEWED', axis=1)\n",
    "y_train = data_train['POLICY_IS_RENEWED'][:offset]\n",
    "\n",
    "X_test = data_train[offset:].drop('POLICY_IS_RENEWED', axis=1)\n",
    "y_test = data_train['POLICY_IS_RENEWED'][offset:]"
   ]
  },
  {
   "cell_type": "code",
   "execution_count": 66,
   "metadata": {},
   "outputs": [
    {
     "name": "stdout",
     "output_type": "stream",
     "text": [
      "(61925, 186)\n",
      "(61925,)\n"
     ]
    }
   ],
   "source": [
    "print(X_train.shape)\n",
    "print(y_train.shape)"
   ]
  },
  {
   "cell_type": "code",
   "execution_count": 71,
   "metadata": {},
   "outputs": [
    {
     "data": {
      "text/plain": [
       "1    38782\n",
       "0    23143\n",
       "Name: POLICY_IS_RENEWED, dtype: int64"
      ]
     },
     "execution_count": 71,
     "metadata": {},
     "output_type": "execute_result"
    }
   ],
   "source": [
    "# Соотношение классов\n",
    "y_train.value_counts()"
   ]
  },
  {
   "cell_type": "markdown",
   "metadata": {
    "collapsed": true
   },
   "source": [
    "После проведенных тестов, наиболее эффективно показала себя модель градиентного бустинга. Опущу тестовые данные для модели (подбор оптимальных параметров по сетке, оценка качества на кросс-валидации и пр.) и не буду приводить сравнения моделей, покажу лишь качество итоговой."
   ]
  },
  {
   "cell_type": "code",
   "execution_count": 67,
   "metadata": {
    "scrolled": false
   },
   "outputs": [
    {
     "name": "stdout",
     "output_type": "stream",
     "text": [
      "      Iter       Train Loss   Remaining Time \n",
      "         1           0.9587            9.66m\n",
      "         2           0.9509            9.63m\n",
      "         3           0.9440            9.64m\n",
      "         4           0.9383            9.56m\n",
      "         5           0.9322            9.63m\n",
      "         6           0.9273            9.62m\n",
      "         7           0.9235            9.70m\n",
      "         8           0.9192            9.78m\n",
      "         9           0.9159            9.71m\n",
      "        10           0.9132            9.77m\n",
      "        20           0.8938            9.95m\n",
      "        30           0.8827            9.89m\n",
      "        40           0.8752            9.64m\n",
      "        50           0.8699            9.21m\n",
      "        60           0.8652            8.78m\n",
      "        70           0.8620            8.35m\n",
      "        80           0.8587            7.95m\n",
      "        90           0.8562            7.56m\n",
      "       100           0.8540            7.17m\n",
      "       200           0.8329            4.70m\n",
      "       300           0.8161            2.99m\n",
      "       400           0.8011            1.46m\n",
      "       500           0.7864            0.00s\n"
     ]
    },
    {
     "data": {
      "text/plain": [
       "GradientBoostingClassifier(criterion='friedman_mse', init=None,\n",
       "              learning_rate=0.1, loss='exponential', max_depth=5,\n",
       "              max_features=None, max_leaf_nodes=None,\n",
       "              min_impurity_decrease=0.0, min_impurity_split=None,\n",
       "              min_samples_leaf=8, min_samples_split=10,\n",
       "              min_weight_fraction_leaf=0.0, n_estimators=500,\n",
       "              presort='auto', random_state=10, subsample=1.0, verbose=1,\n",
       "              warm_start=False)"
      ]
     },
     "execution_count": 67,
     "metadata": {},
     "output_type": "execute_result"
    }
   ],
   "source": [
    "from sklearn.ensemble import GradientBoostingClassifier\n",
    "\n",
    "gradient_boosting = GradientBoostingClassifier(verbose=1, loss='exponential', max_depth=5, \n",
    "                                               min_samples_split=10, min_samples_leaf=8,\n",
    "                                               n_estimators=500, random_state=10)\n",
    "\n",
    "gradient_boosting.fit(X_train, y_train)"
   ]
  },
  {
   "cell_type": "code",
   "execution_count": 73,
   "metadata": {},
   "outputs": [
    {
     "name": "stdout",
     "output_type": "stream",
     "text": [
      "testing score: 0.706433277354347 \n",
      "\n",
      "             precision    recall  f1-score   support\n",
      "\n",
      "          0       0.68      0.43      0.53      5888\n",
      "          1       0.71      0.88      0.79      9594\n",
      "\n",
      "avg / total       0.70      0.71      0.69     15482\n",
      "\n"
     ]
    },
    {
     "name": "stderr",
     "output_type": "stream",
     "text": [
      "C:\\Users\\lugA9\\Anaconda3\\lib\\site-packages\\sklearn\\utils\\deprecation.py:77: DeprecationWarning: Function plot_roc_curve is deprecated; This will be removed in v0.5.0. Please use scikitplot.metrics.plot_roc instead.\n",
      "  warnings.warn(msg, category=DeprecationWarning)\n"
     ]
    },
    {
     "data": {
      "image/png": "[encoded data removed]",
      "text/plain": [
       "<Figure size 432x288 with 1 Axes>"
      ]
     },
     "metadata": {},
     "output_type": "display_data"
    }
   ],
   "source": [
    "# Посмотрим на метрики качества получившейся классификации\n",
    "\n",
    "from sklearn import metrics\n",
    "import scikitplot as skplt\n",
    "\n",
    "score = gradient_boosting.score(X_test, y_test)\n",
    "predictions = gradient_boosting.predict(X_test)\n",
    "\n",
    "print('testing score:', score, '\\n')\n",
    "print(metrics.classification_report(y_test, predictions))\n",
    "\n",
    "y_true = y_test\n",
    "y_probas = gradient_boosting.predict_proba(X_test)\n",
    "skplt.metrics.plot_roc_curve(y_true, y_probas)\n",
    "plt.show()"
   ]
  },
  {
   "cell_type": "code",
   "execution_count": 78,
   "metadata": {},
   "outputs": [
    {
     "data": {
      "text/plain": [
       "(array([0, 1, 2, 3, 4, 5, 6, 7, 8, 9]), <a list of 10 Text xticklabel objects>)"
      ]
     },
     "execution_count": 78,
     "metadata": {},
     "output_type": "execute_result"
    },
    {
     "data": {
      "image/png": "[encoded data removed]",
      "text/plain": [
       "<Figure size 432x288 with 1 Axes>"
      ]
     },
     "metadata": {},
     "output_type": "display_data"
    }
   ],
   "source": [
    "# Построим график топ-10 признаков, сыгравших основную роль в построении модели\n",
    "\n",
    "df = pd.DataFrame({'importance': gradient_boosting.feature_importances_}, index=X_train.columns)\n",
    "df = df.sort_values(by='importance', ascending=0)[:10]\n",
    "sns.barplot(df['importance'].index, df['importance'].values)\n",
    "plt.xticks(rotation=80)"
   ]
  },
  {
   "cell_type": "code",
   "execution_count": 26,
   "metadata": {},
   "outputs": [
    {
     "name": "stdout",
     "output_type": "stream",
     "text": [
      "      Iter       Train Loss   Remaining Time \n",
      "         1           0.9593            6.21m\n",
      "         2           0.9514            6.21m\n",
      "         3           0.9447            6.22m\n",
      "         4           0.9388            6.22m\n",
      "         5           0.9326            6.23m\n",
      "         6           0.9281            6.26m\n",
      "         7           0.9243            6.28m\n",
      "         8           0.9199            6.27m\n",
      "         9           0.9167            6.26m\n",
      "        10           0.9137            6.33m\n",
      "        20           0.8948            6.42m\n",
      "        30           0.8846            6.30m\n",
      "        40           0.8768            6.32m\n",
      "        50           0.8723            6.48m\n",
      "        60           0.8683            6.21m\n",
      "        70           0.8649            5.89m\n",
      "        80           0.8622            5.59m\n",
      "        90           0.8594            5.48m\n",
      "       100           0.8567            5.23m\n",
      "       200           0.8401            3.41m\n",
      "       300           0.8262            2.09m\n",
      "       400           0.8133            1.01m\n",
      "       500           0.8013            0.00s\n"
     ]
    },
    {
     "data": {
      "text/plain": [
       "GradientBoostingClassifier(criterion='friedman_mse', init=None,\n",
       "              learning_rate=0.1, loss='exponential', max_depth=5,\n",
       "              max_features=None, max_leaf_nodes=None,\n",
       "              min_impurity_decrease=0.0, min_impurity_split=None,\n",
       "              min_samples_leaf=8, min_samples_split=10,\n",
       "              min_weight_fraction_leaf=0.0, n_estimators=500,\n",
       "              presort='auto', random_state=10, subsample=1.0, verbose=1,\n",
       "              warm_start=False)"
      ]
     },
     "execution_count": 26,
     "metadata": {},
     "output_type": "execute_result"
    }
   ],
   "source": [
    "# Обучим полуенную модель на полных данных, чтобы сделать окончательный прогноз\n",
    "\n",
    "gradient_boosting.fit(X_train_data, y_train_data)"
   ]
  },
  {
   "cell_type": "code",
   "execution_count": 39,
   "metadata": {
    "collapsed": true,
    "scrolled": true
   },
   "outputs": [],
   "source": [
    "predict = gradient_boosting.predict(X_data)\n",
    "predict_proba = gradient_boosting.predict_proba(X_data)"
   ]
  },
  {
   "cell_type": "code",
   "execution_count": 60,
   "metadata": {
    "collapsed": true
   },
   "outputs": [],
   "source": [
    "answer = []\n",
    "for i, j in enumerate(predict):\n",
    "    answer.append([j, predict_proba[i, j]])\n",
    "\n",
    "df_answer = pd.DataFrame(answer, index=X_data.index)\n",
    "answer = pd.DataFrame.to_csv(df_answer, sep=';', header=None)\n",
    "\n",
    "with open(\"predictions.txt\", \"w\") as fout:\n",
    "    fout.write(answer)"
   ]
  }
 ],
 "metadata": {
  "kernelspec": {
   "display_name": "Python 3",
   "language": "python",
   "name": "python3"
  },
  "language_info": {
   "codemirror_mode": {
    "name": "ipython",
    "version": 3
   },
   "file_extension": ".py",
   "mimetype": "text/x-python",
   "name": "python",
   "nbconvert_exporter": "python",
   "pygments_lexer": "ipython3",
   "version": "3.6.3"
  }
 },
 "nbformat": 4,
 "nbformat_minor": 2
}
